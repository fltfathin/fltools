{
 "cells": [
  {
   "cell_type": "code",
   "execution_count": 1,
   "metadata": {},
   "outputs": [],
   "source": [
    "import numpy as np\n",
    "import logging\n",
    "from tfidf import tf_idf"
   ]
  },
  {
   "cell_type": "markdown",
   "metadata": {},
   "source": [
    "$\\mathrm{tf}=f_{t,d}$"
   ]
  },
  {
   "cell_type": "code",
   "execution_count": 2,
   "metadata": {},
   "outputs": [],
   "source": [
    "def tfmethod(term, document):\n",
    "    \"\"\"this is the binary \"\"\"\n",
    "    tf = 0\n",
    "    for word in document:\n",
    "        if word == term:\n",
    "            tf += 1\n",
    "    return tf / len(document)"
   ]
  },
  {
   "cell_type": "markdown",
   "metadata": {},
   "source": [
    "$\\mathrm{idf}_{(t,D)} = \\log_{10}\\frac{N+1}{\\mathit{df}} $"
   ]
  },
  {
   "cell_type": "code",
   "execution_count": 3,
   "metadata": {},
   "outputs": [],
   "source": [
    "def idfmethod(term,documents):\n",
    "    N = len(documents)\n",
    "    df = 0\n",
    "    for document in documents:\n",
    "        if term in document:\n",
    "            df += 1\n",
    "    idf = np.log10((N)/df)\n",
    "#     logging.debug(f\"np.log10(({N}+1)/{df})\")\n",
    "    return df,idf"
   ]
  },
  {
   "cell_type": "code",
   "execution_count": 4,
   "metadata": {},
   "outputs": [],
   "source": [
    "t = tf_idf(tfmethod,idfmethod)"
   ]
  },
  {
   "cell_type": "code",
   "execution_count": 5,
   "metadata": {},
   "outputs": [
    {
     "name": "stderr",
     "output_type": "stream",
     "text": [
      "2019-09-25 23:17:49,888 [  DEBUG] document: [['the', 'best', 'italian', 'restaurant', 'enjoy', 'the', 'best', 'pasta'], ['american', 'restaurant', 'enjoy', 'the', 'best', 'hamburger'], ['korean', 'restaurant', 'enjoy', 'the', 'best', 'bibimbab'], ['the', 'best', 'the', 'best', 'american', 'restaurant']]\n",
      "2019-09-25 23:17:49,889 [  DEBUG] unique_words: ['the', 'best', 'italian', 'restaurant', 'enjoy', 'pasta', 'american', 'hamburger', 'korean', 'bibimbab']\n",
      "2019-09-25 23:17:49,891 [  DEBUG] [[0.25       0.25       0.125      0.125      0.125      0.125\n",
      "  0.         0.         0.         0.        ]\n",
      " [0.16666667 0.16666667 0.         0.16666667 0.16666667 0.\n",
      "  0.16666667 0.16666667 0.         0.        ]\n",
      " [0.16666667 0.16666667 0.         0.16666667 0.16666667 0.\n",
      "  0.         0.         0.16666667 0.16666667]\n",
      " [0.33333333 0.33333333 0.         0.16666667 0.         0.\n",
      "  0.16666667 0.         0.         0.        ]]\n",
      "2019-09-25 23:17:49,896 [  DEBUG] tfidf: [[0.         0.         0.0752575  0.         0.01561734 0.0752575\n",
      "  0.         0.         0.         0.        ]\n",
      " [0.         0.         0.         0.         0.02082312 0.\n",
      "  0.05017167 0.10034333 0.         0.        ]\n",
      " [0.         0.         0.         0.         0.02082312 0.\n",
      "  0.         0.         0.10034333 0.10034333]\n",
      " [0.         0.         0.         0.         0.         0.\n",
      "  0.05017167 0.         0.         0.        ]]\n"
     ]
    },
    {
     "name": "stdout",
     "output_type": "stream",
     "text": [
      "(0, 0) 1.00000 = 0.01157 / (0.10757*0.10757)\n",
      "(0, 1) 0.16764 = 0.00033 / (0.10757*0.01803)\n",
      "(0, 2) 0.16764 = 0.00033 / (0.10757*0.01803)\n",
      "(0, 3) 0.00000 = 0.00000 / (0.10757*0.00000)\n",
      "(1, 0) 0.15804 = 0.00033 / (0.11410*0.01803)\n",
      "(1, 1) 1.00000 = 0.01302 / (0.11410*0.11410)\n",
      "(1, 2) 0.18249 = 0.00043 / (0.11410*0.02082)\n",
      "(1, 3) 0.43970 = 0.00252 / (0.11410*0.05017)\n",
      "(2, 0) 0.12573 = 0.00033 / (0.14343*0.01803)\n",
      "(2, 1) 0.14518 = 0.00043 / (0.14343*0.02082)\n",
      "(2, 2) 1.00000 = 0.02057 / (0.14343*0.14343)\n",
      "(2, 3) 0.00000 = 0.00000 / (0.14343*0.00000)\n",
      "(3, 0) 0.00000 = 0.00000 / (0.05017*0.00000)\n",
      "(3, 1) 1.00000 = 0.00252 / (0.05017*0.05017)\n",
      "(3, 2) 0.00000 = 0.00000 / (0.05017*0.00000)\n",
      "(3, 3) 1.00000 = 0.00252 / (0.05017*0.05017)\n"
     ]
    }
   ],
   "source": [
    "t.pretty_solve([[\"the\",\"best\",\"italian\",\"restaurant\",\"enjoy\",\"the\",\"best\",\"pasta\"],\n",
    "                [\"american\",\"restaurant\",\"enjoy\",\"the\",\"best\",\"hamburger\"],\n",
    "                [\"korean\",\"restaurant\",\"enjoy\",\"the\",\"best\",\"bibimbab\"],\n",
    "                [\"the\",\"best\",\"the\",\"best\",\"american\",\"restaurant\"]])"
   ]
  },
  {
   "cell_type": "code",
   "execution_count": 6,
   "metadata": {},
   "outputs": [
    {
     "data": {
      "text/plain": [
       "['the',\n",
       " 'best',\n",
       " 'italian',\n",
       " 'restaurant',\n",
       " 'enjoy',\n",
       " 'pasta',\n",
       " 'american',\n",
       " 'hamburger',\n",
       " 'korean',\n",
       " 'bibimbab']"
      ]
     },
     "execution_count": 6,
     "metadata": {},
     "output_type": "execute_result"
    }
   ],
   "source": [
    "t.unique_words"
   ]
  },
  {
   "cell_type": "code",
   "execution_count": 7,
   "metadata": {},
   "outputs": [
    {
     "data": {
      "text/plain": [
       "array([[0.        , 0.        , 0.60205999, 0.        , 0.12493874,\n",
       "        0.60205999, 0.30103   , 0.60205999, 0.60205999, 0.60205999]])"
      ]
     },
     "execution_count": 7,
     "metadata": {},
     "output_type": "execute_result"
    }
   ],
   "source": [
    "t.idf_vector"
   ]
  },
  {
   "cell_type": "code",
   "execution_count": 8,
   "metadata": {},
   "outputs": [
    {
     "data": {
      "text/plain": [
       "array([[0.25      , 0.25      , 0.125     , 0.125     , 0.125     ,\n",
       "        0.125     , 0.        , 0.        , 0.        , 0.        ],\n",
       "       [0.16666667, 0.16666667, 0.        , 0.16666667, 0.16666667,\n",
       "        0.        , 0.16666667, 0.16666667, 0.        , 0.        ],\n",
       "       [0.16666667, 0.16666667, 0.        , 0.16666667, 0.16666667,\n",
       "        0.        , 0.        , 0.        , 0.16666667, 0.16666667],\n",
       "       [0.33333333, 0.33333333, 0.        , 0.16666667, 0.        ,\n",
       "        0.        , 0.16666667, 0.        , 0.        , 0.        ]])"
      ]
     },
     "execution_count": 8,
     "metadata": {},
     "output_type": "execute_result"
    }
   ],
   "source": [
    "t.tf_vector"
   ]
  },
  {
   "cell_type": "code",
   "execution_count": 9,
   "metadata": {},
   "outputs": [
    {
     "data": {
      "text/plain": [
       "array([[4., 4., 1., 4., 3., 1., 2., 1., 1., 1.]])"
      ]
     },
     "execution_count": 9,
     "metadata": {},
     "output_type": "execute_result"
    }
   ],
   "source": [
    "t.df_vector"
   ]
  },
  {
   "cell_type": "code",
   "execution_count": 10,
   "metadata": {},
   "outputs": [
    {
     "data": {
      "text/plain": [
       "array([[0.        , 0.        , 0.0752575 , 0.        , 0.01561734,\n",
       "        0.0752575 , 0.        , 0.        , 0.        , 0.        ],\n",
       "       [0.        , 0.        , 0.        , 0.        , 0.02082312,\n",
       "        0.        , 0.05017167, 0.10034333, 0.        , 0.        ],\n",
       "       [0.        , 0.        , 0.        , 0.        , 0.02082312,\n",
       "        0.        , 0.        , 0.        , 0.10034333, 0.10034333],\n",
       "       [0.        , 0.        , 0.        , 0.        , 0.        ,\n",
       "        0.        , 0.05017167, 0.        , 0.        , 0.        ]])"
      ]
     },
     "execution_count": 10,
     "metadata": {},
     "output_type": "execute_result"
    }
   ],
   "source": [
    "t.tfidf_vector"
   ]
  },
  {
   "cell_type": "code",
   "execution_count": 11,
   "metadata": {},
   "outputs": [
    {
     "name": "stdout",
     "output_type": "stream",
     "text": [
      "(0, 0) 1.00000 = 0.01157 / (0.10757*0.10757)\n",
      "(0, 1) 0.16764 = 0.00033 / (0.10757*0.01803)\n",
      "(0, 2) 0.16764 = 0.00033 / (0.10757*0.01803)\n",
      "(0, 3) 0.00000 = 0.00000 / (0.10757*0.00000)\n",
      "(1, 0) 0.15804 = 0.00033 / (0.11410*0.01803)\n",
      "(1, 1) 1.00000 = 0.01302 / (0.11410*0.11410)\n",
      "(1, 2) 0.18249 = 0.00043 / (0.11410*0.02082)\n",
      "(1, 3) 0.43970 = 0.00252 / (0.11410*0.05017)\n",
      "(2, 0) 0.12573 = 0.00033 / (0.14343*0.01803)\n",
      "(2, 1) 0.14518 = 0.00043 / (0.14343*0.02082)\n",
      "(2, 2) 1.00000 = 0.02057 / (0.14343*0.14343)\n",
      "(2, 3) 0.00000 = 0.00000 / (0.14343*0.00000)\n",
      "(3, 0) 0.00000 = 0.00000 / (0.05017*0.00000)\n",
      "(3, 1) 1.00000 = 0.00252 / (0.05017*0.05017)\n",
      "(3, 2) 0.00000 = 0.00000 / (0.05017*0.00000)\n",
      "(3, 3) 1.00000 = 0.00252 / (0.05017*0.05017)\n"
     ]
    },
    {
     "data": {
      "text/plain": [
       "array([[1.        , 0.16764311, 0.16764311, 0.        ],\n",
       "       [0.15804398, 1.        , 0.18249347, 0.43970357],\n",
       "       [0.12573234, 0.1451832 , 1.        , 0.        ],\n",
       "       [0.        , 1.        , 0.        , 1.        ]])"
      ]
     },
     "execution_count": 11,
     "metadata": {},
     "output_type": "execute_result"
    }
   ],
   "source": [
    "t.calculate_cosine()"
   ]
  },
  {
   "cell_type": "code",
   "execution_count": null,
   "metadata": {},
   "outputs": [],
   "source": []
  },
  {
   "cell_type": "code",
   "execution_count": null,
   "metadata": {},
   "outputs": [],
   "source": []
  }
 ],
 "metadata": {
  "kernelspec": {
   "display_name": "Python 3",
   "language": "python",
   "name": "python3"
  },
  "language_info": {
   "codemirror_mode": {
    "name": "ipython",
    "version": 3
   },
   "file_extension": ".py",
   "mimetype": "text/x-python",
   "name": "python",
   "nbconvert_exporter": "python",
   "pygments_lexer": "ipython3",
   "version": "3.7.4"
  }
 },
 "nbformat": 4,
 "nbformat_minor": 2
}

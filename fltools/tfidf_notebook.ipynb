{
 "cells": [
  {
   "cell_type": "code",
   "execution_count": 1,
   "metadata": {},
   "outputs": [],
   "source": [
    "import numpy as np"
   ]
  },
  {
   "cell_type": "markdown",
   "metadata": {},
   "source": [
    "this document is used to explain how to calculate document similarity using tf-idf method\n",
    "\n"
   ]
  },
  {
   "cell_type": "code",
   "execution_count": 2,
   "metadata": {},
   "outputs": [],
   "source": [
    "documents = [\n",
    "    \"we are doing just fine fine fine\",\n",
    "    \"we are doing just fine \",\n",
    "]"
   ]
  },
  {
   "cell_type": "code",
   "execution_count": 3,
   "metadata": {},
   "outputs": [],
   "source": [
    "# from tfidf import tf_idf"
   ]
  },
  {
   "cell_type": "code",
   "execution_count": 4,
   "metadata": {},
   "outputs": [],
   "source": [
    "def tokenize(documents):\n",
    "    result = []\n",
    "    for document in documents:\n",
    "        result.append(document.split(\" \"))\n",
    "    print(result)\n",
    "    return result"
   ]
  },
  {
   "cell_type": "code",
   "execution_count": 5,
   "metadata": {},
   "outputs": [
    {
     "name": "stdout",
     "output_type": "stream",
     "text": [
      "[['we', 'are', 'doing', 'just', 'fine', 'fine', 'fine'], ['we', 'are', 'doing', 'just', 'fine', '']]\n"
     ]
    }
   ],
   "source": [
    "tokens = tokenize(documents)"
   ]
  },
  {
   "cell_type": "code",
   "execution_count": 6,
   "metadata": {},
   "outputs": [],
   "source": [
    "terms = []\n",
    "for document in tokens:\n",
    "    for word in document:\n",
    "        if word not in terms:\n",
    "            terms.append(word)"
   ]
  },
  {
   "cell_type": "code",
   "execution_count": 7,
   "metadata": {},
   "outputs": [
    {
     "data": {
      "text/plain": [
       "['we', 'are', 'doing', 'just', 'fine', '']"
      ]
     },
     "execution_count": 7,
     "metadata": {},
     "output_type": "execute_result"
    }
   ],
   "source": [
    "terms"
   ]
  },
  {
   "cell_type": "code",
   "execution_count": null,
   "metadata": {},
   "outputs": [],
   "source": []
  },
  {
   "cell_type": "code",
   "execution_count": 8,
   "metadata": {},
   "outputs": [],
   "source": [
    "def calc_tf(terms,documents,method):\n",
    "    tf_vector = np.zeros((len(documents),len(terms)))\n",
    "    for d, document in enumerate(documents):\n",
    "        for t, term in enumerate(terms):\n",
    "            tf = method(term,document)\n",
    "            tf_vector.itemset((d,t),tf)\n",
    "    return tf_vector"
   ]
  },
  {
   "cell_type": "markdown",
   "metadata": {},
   "source": [
    "in `tf_raw` operation, we use `raw count` to calculate `tf`\n",
    "so that ${tf}_{(t,d)} = f_{(t,d)}$"
   ]
  },
  {
   "cell_type": "code",
   "execution_count": 9,
   "metadata": {},
   "outputs": [],
   "source": [
    "def tf_raw(term, document):\n",
    "    tf = 0\n",
    "    for word in document:\n",
    "        if word == term:\n",
    "            tf += 1\n",
    "    return tf"
   ]
  },
  {
   "cell_type": "markdown",
   "metadata": {},
   "source": [
    "`tf_binary` tf is 1 if the term exist and 0 if term nonexistent on the document"
   ]
  },
  {
   "cell_type": "code",
   "execution_count": 10,
   "metadata": {},
   "outputs": [],
   "source": [
    "def tf_binary(term,document):\n",
    "    return 1 if term in document else 0 "
   ]
  },
  {
   "cell_type": "markdown",
   "metadata": {},
   "source": [
    "`tf_termfrequency` \n",
    "\n",
    "$\\mathrm{tf} = \\frac{f_{(t,d)}}{\\displaystyle\\sum_{{w\\in d}}{f_{(w,d)}}}$"
   ]
  },
  {
   "cell_type": "code",
   "execution_count": 11,
   "metadata": {},
   "outputs": [],
   "source": [
    "def tf_termfrequency (term,document):\n",
    "    tf = 0\n",
    "    for word in document:\n",
    "        if term == word:\n",
    "            tf += 1\n",
    "    return tf/len(document)"
   ]
  },
  {
   "cell_type": "markdown",
   "metadata": {},
   "source": [
    "after choosing which tf method to use, you can calculate tf this way:"
   ]
  },
  {
   "cell_type": "code",
   "execution_count": null,
   "metadata": {},
   "outputs": [],
   "source": []
  },
  {
   "cell_type": "code",
   "execution_count": 12,
   "metadata": {},
   "outputs": [],
   "source": [
    "def calc_idf (terms,documents,method):\n",
    "    idf_vector = np.zeros((1,len(terms)))\n",
    "    for t, term in enumerate(terms):\n",
    "        idf = method(term, documents)\n",
    "        idf_vector.itemset((0,t),idf)\n",
    "    return idf_vector"
   ]
  },
  {
   "cell_type": "markdown",
   "metadata": {},
   "source": [
    "$\\mathrm{idf}_{(t,D)} = \\log_{10}\\frac{N}{\\mathit{df}} $"
   ]
  },
  {
   "cell_type": "code",
   "execution_count": 13,
   "metadata": {},
   "outputs": [],
   "source": [
    "def idf_norm(term,documents):\n",
    "    N = len(documents)\n",
    "    df = 0\n",
    "    for document in documents:\n",
    "        if term in document:\n",
    "            df += 1\n",
    "    print(f\"np.log10({N}/{np.abs(df)})\")\n",
    "    return np.log10(N/np.abs(df))"
   ]
  },
  {
   "cell_type": "markdown",
   "metadata": {},
   "source": [
    "there's some chance the term (`term in terms`) is not in the corpus (`documents`) so you adjust the equation to avoid division by zero as such\n",
    "\n",
    "$\\mathrm{idf}_{(t,D)} = \\log_{10}\\frac{N}{\\mathit{df}+1} $"
   ]
  },
  {
   "cell_type": "code",
   "execution_count": 14,
   "metadata": {},
   "outputs": [],
   "source": [
    "def idf_smooth(term,documents):\n",
    "    df = 0\n",
    "    for document in documents:\n",
    "        if term in document:\n",
    "            df += 1\n",
    "    return np.log((len(documents)+1)/(np.abs(df)+1))"
   ]
  },
  {
   "cell_type": "code",
   "execution_count": 15,
   "metadata": {},
   "outputs": [
    {
     "name": "stdout",
     "output_type": "stream",
     "text": [
      "[[0.14285714 0.14285714 0.14285714 0.14285714 0.42857143 0.        ]\n",
      " [0.16666667 0.16666667 0.16666667 0.16666667 0.16666667 0.16666667]]\n"
     ]
    }
   ],
   "source": [
    "tf_vector = calc_tf(terms,tokens,tf_termfrequency)\n",
    "print(tf_vector)"
   ]
  },
  {
   "cell_type": "code",
   "execution_count": 16,
   "metadata": {},
   "outputs": [
    {
     "name": "stdout",
     "output_type": "stream",
     "text": [
      "np.log10(2/2)\n",
      "np.log10(2/2)\n",
      "np.log10(2/2)\n",
      "np.log10(2/2)\n",
      "np.log10(2/2)\n",
      "np.log10(2/2)\n",
      "[[0. 0. 0. 0. 0. 0.]]\n"
     ]
    }
   ],
   "source": [
    "idf_vector = calc_idf(terms,documents,idf_norm)\n",
    "print(idf_vector)"
   ]
  },
  {
   "cell_type": "code",
   "execution_count": 17,
   "metadata": {},
   "outputs": [],
   "source": [
    "def calculate_tfidf(tf_vector, idf_vector):\n",
    "    tfidf_vector = np.ones(tf_vector.shape)\n",
    "    for i in range(tf_vector.shape[0]):\n",
    "        for j in range(tf_vector.shape[1]):\n",
    "            tfidf = tf_vector.item((i,j)) * idf_vector.item((0,j))\n",
    "            tfidf_vector.itemset((i,j),tfidf)\n",
    "    return tfidf_vector"
   ]
  },
  {
   "cell_type": "code",
   "execution_count": 18,
   "metadata": {},
   "outputs": [],
   "source": [
    "tfidf_v = calculate_tfidf(tf_vector,idf_vector)"
   ]
  },
  {
   "cell_type": "code",
   "execution_count": 19,
   "metadata": {},
   "outputs": [
    {
     "data": {
      "text/plain": [
       "array([[0., 0.],\n",
       "       [0., 0.]])"
      ]
     },
     "execution_count": 19,
     "metadata": {},
     "output_type": "execute_result"
    }
   ],
   "source": [
    "np.dot(tfidf_v,tfidf_v.T)"
   ]
  },
  {
   "cell_type": "code",
   "execution_count": 25,
   "metadata": {},
   "outputs": [
    {
     "data": {
      "text/plain": [
       "2.0"
      ]
     },
     "execution_count": 25,
     "metadata": {},
     "output_type": "execute_result"
    }
   ],
   "source": [
    "np.log10(100)"
   ]
  },
  {
   "cell_type": "code",
   "execution_count": null,
   "metadata": {},
   "outputs": [],
   "source": []
  }
 ],
 "metadata": {
  "kernelspec": {
   "display_name": "Python 3",
   "language": "python",
   "name": "python3"
  },
  "language_info": {
   "codemirror_mode": {
    "name": "ipython",
    "version": 3
   },
   "file_extension": ".py",
   "mimetype": "text/x-python",
   "name": "python",
   "nbconvert_exporter": "python",
   "pygments_lexer": "ipython3",
   "version": "3.7.4"
  }
 },
 "nbformat": 4,
 "nbformat_minor": 2
}
